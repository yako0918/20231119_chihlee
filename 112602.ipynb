{
 "cells": [
  {
   "cell_type": "code",
   "execution_count": 1,
   "metadata": {},
   "outputs": [
    {
     "data": {
      "text/plain": [
       "True"
      ]
     },
     "execution_count": 1,
     "metadata": {},
     "output_type": "execute_result"
    }
   ],
   "source": [
    "4>3"
   ]
  },
  {
   "cell_type": "code",
   "execution_count": 2,
   "metadata": {},
   "outputs": [
    {
     "data": {
      "text/plain": [
       "False"
      ]
     },
     "execution_count": 2,
     "metadata": {},
     "output_type": "execute_result"
    }
   ],
   "source": [
    "3>4"
   ]
  },
  {
   "cell_type": "code",
   "execution_count": 3,
   "metadata": {},
   "outputs": [
    {
     "data": {
      "text/plain": [
       "False"
      ]
     },
     "execution_count": 3,
     "metadata": {},
     "output_type": "execute_result"
    }
   ],
   "source": [
    "\"abc\" ==\"sss\""
   ]
  },
  {
   "cell_type": "code",
   "execution_count": 4,
   "metadata": {},
   "outputs": [
    {
     "data": {
      "text/plain": [
       "True"
      ]
     },
     "execution_count": 4,
     "metadata": {},
     "output_type": "execute_result"
    }
   ],
   "source": [
    "\"abc\" ==\"abc\""
   ]
  },
  {
   "cell_type": "code",
   "execution_count": 5,
   "metadata": {},
   "outputs": [
    {
     "name": "stdout",
     "output_type": "stream",
     "text": [
      "age=17\n",
      "程式結束\n"
     ]
    }
   ],
   "source": [
    "age =17\n",
    "print(f\"age={age}\")\n",
    "if age >= 18:\n",
    "    print(\"這是true的程式區塊\")\n",
    "    print(\"成年\")\n",
    "\n",
    "print(\"程式結束\")"
   ]
  },
  {
   "cell_type": "code",
   "execution_count": 6,
   "metadata": {},
   "outputs": [
    {
     "name": "stdout",
     "output_type": "stream",
     "text": [
      "age=21\n",
      "這是true的程式區塊\n",
      "成年\n",
      "程式結束\n"
     ]
    }
   ],
   "source": [
    "age =21\n",
    "print(f\"age={age}\")\n",
    "if age >= 18:\n",
    "    print(\"這是true的程式區塊\")\n",
    "    print(\"成年\")\n",
    "else:\n",
    "    print(\"這是false的程式區塊\")\n",
    "    print(\"未成年\")\n",
    "\n",
    "print(\"程式結束\")"
   ]
  },
  {
   "cell_type": "code",
   "execution_count": 7,
   "metadata": {},
   "outputs": [
    {
     "name": "stdout",
     "output_type": "stream",
     "text": [
      "age=17\n",
      "這是false的程式區塊\n",
      "未成年\n",
      "程式結束\n"
     ]
    }
   ],
   "source": [
    "age =17\n",
    "print(f\"age={age}\")\n",
    "if age >= 18:\n",
    "    print(\"這是true的程式區塊\")\n",
    "    print(\"成年\")\n",
    "else:\n",
    "    print(\"這是false的程式區塊\")\n",
    "    print(\"未成年\")\n",
    "\n",
    "print(\"程式結束\")"
   ]
  },
  {
   "cell_type": "markdown",
   "metadata": {},
   "source": [
    "https://docs.python.org/zh-tw/3/tutorial/controlflow.html\n",
    "\n",
    "深入了解流程控制"
   ]
  },
  {
   "cell_type": "code",
   "execution_count": 8,
   "metadata": {},
   "outputs": [
    {
     "name": "stdout",
     "output_type": "stream",
     "text": [
      "兩個數字相加結果是：34\n"
     ]
    }
   ],
   "source": [
    "a = int(input('輸入第一個數字：'))\n",
    "b = int(input('輸入第二個數字：'))\n",
    "print(f'兩個數字相加結果是：{a+b}')"
   ]
  }
 ],
 "metadata": {
  "kernelspec": {
   "display_name": "Python 3",
   "language": "python",
   "name": "python3"
  },
  "language_info": {
   "codemirror_mode": {
    "name": "ipython",
    "version": 3
   },
   "file_extension": ".py",
   "mimetype": "text/x-python",
   "name": "python",
   "nbconvert_exporter": "python",
   "pygments_lexer": "ipython3",
   "version": "3.10.13"
  }
 },
 "nbformat": 4,
 "nbformat_minor": 2
}
