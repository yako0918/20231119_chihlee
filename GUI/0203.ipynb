{
 "cells": [
  {
   "cell_type": "code",
   "execution_count": null,
   "metadata": {},
   "outputs": [],
   "source": [
    "import requests\n",
    "\n",
    "url = 'kWFgzYZMyLocD5FqfhETC5wPFVe-Aznt'\n",
    "\n",
    "response = requests.request(\"GET\",url)\n",
    "if response.status_code == 200:\n",
    "    print(response.json())\n",
    "    all_data = response.json()\n",
    "    print(type(all_data['V0']))\n",
    "    print(type(all_data['v1']))\n",
    "else:\n",
    "    print(\"連線失敗\")稍後"
   ]
  }
 ],
 "metadata": {
  "kernelspec": {
   "display_name": "Python 3",
   "language": "python",
   "name": "python3"
  },
  "language_info": {
   "name": "python",
   "version": "3.10.13"
  }
 },
 "nbformat": 4,
 "nbformat_minor": 2
}
