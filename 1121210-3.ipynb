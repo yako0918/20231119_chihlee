{
 "cells": [
  {
   "cell_type": "code",
   "execution_count": 3,
   "metadata": {},
   "outputs": [
    {
     "name": "stdout",
     "output_type": "stream",
     "text": [
      "hello! py 1121210 \n"
     ]
    }
   ],
   "source": [
    "#建立 function\n",
    "def aaaaaaaa():\n",
    "    print(\"hello! py 1121210 \")\n",
    "\n",
    "aaaaaaaa()"
   ]
  },
  {
   "cell_type": "code",
   "execution_count": 8,
   "metadata": {},
   "outputs": [
    {
     "name": "stdout",
     "output_type": "stream",
     "text": [
      "hello!  222!\n",
      "hello!  3333!\n",
      "hello!  222444!\n"
     ]
    }
   ],
   "source": [
    "#建立 function 函數\n",
    "def aaaaaaaa(name):\n",
    "    print(f\"hello!  {name}!\")\n",
    "\n",
    "aaaaaaaa(\"222\")\n",
    "aaaaaaaa(\"3333\")\n",
    "aaaaaaaa(\"222444\")"
   ]
  }
 ],
 "metadata": {
  "kernelspec": {
   "display_name": "Python 3",
   "language": "python",
   "name": "python3"
  },
  "language_info": {
   "codemirror_mode": {
    "name": "ipython",
    "version": 3
   },
   "file_extension": ".py",
   "mimetype": "text/x-python",
   "name": "python",
   "nbconvert_exporter": "python",
   "pygments_lexer": "ipython3",
   "version": "3.10.13"
  }
 },
 "nbformat": 4,
 "nbformat_minor": 2
}
