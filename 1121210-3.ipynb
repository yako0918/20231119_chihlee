{
 "cells": [
  {
   "cell_type": "code",
   "execution_count": 3,
   "metadata": {},
   "outputs": [
    {
     "name": "stdout",
     "output_type": "stream",
     "text": [
      "hello! py 1121210 \n"
     ]
    }
   ],
   "source": [
    "#建立 function\n",
    "def aaaaaaaa():\n",
    "    print(\"hello! py 1121210 \")\n",
    "\n",
    "aaaaaaaa()"
   ]
  },
  {
   "cell_type": "code",
   "execution_count": 10,
   "metadata": {},
   "outputs": [
    {
     "name": "stdout",
     "output_type": "stream",
     "text": [
      "hello!  22266!\n",
      "hello!  33339!\n",
      "hello!  222444!\n"
     ]
    }
   ],
   "source": [
    "#建立 function 函數\n",
    "def aaaaaaaa(name):\n",
    "    print(f\"hello!  {name}!\")\n",
    "\n",
    "\n",
    "\n",
    "aaaaaaaa(\"22266\")\n",
    "aaaaaaaa(\"33339\")\n",
    "aaaaaaaa(\"222444\")"
   ]
  },
  {
   "cell_type": "code",
   "execution_count": 19,
   "metadata": {},
   "outputs": [
    {
     "name": "stdout",
     "output_type": "stream",
     "text": [
      "hello!  22266:20!\n",
      "hello!  33339:30!\n",
      "hello!  222444:40!\n"
     ]
    }
   ],
   "source": [
    "#建立 function 函數\n",
    "def aaaaaaaa(name,age):\n",
    "    print(f\"hello!  {name}:{age}!\")\n",
    "\n",
    "\n",
    "#引數值呼叫，要依順序\n",
    "aaaaaaaa(\"22266\",20)\n",
    "aaaaaaaa(\"33339\",30)\n",
    "aaaaaaaa(\"222444\",40)"
   ]
  },
  {
   "cell_type": "code",
   "execution_count": null,
   "metadata": {},
   "outputs": [],
   "source": [
    "#建立一個function\n",
    "#沒有參數,沒有傳出值的function\n",
    "#沒有的function,靈活性最差\n",
    "def sayHello():\n",
    "    print(\"Hello! Python!\")\n",
    "\n",
    "sayHello()\n",
    "sayHello()\n",
    "sayHello()"
   ]
  },
  {
   "cell_type": "code",
   "execution_count": null,
   "metadata": {},
   "outputs": [],
   "source": [
    "def sayHello(name,age):\n",
    "    if age<18:\n",
    "        alias = \"少年\"\n",
    "    elif age < 30:\n",
    "        alias = \"中年\"\n",
    "    elif age < 50:\n",
    "        alias = \"壯年\"\n",
    "    else:\n",
    "        alias = \"老年\"\n",
    "    \n",
    "    print(f'Hello! {alias}:{name}!')\n",
    "\n",
    "#引數值的呼叫要依順序\n",
    "sayHello(\"徐國堂\",13)\n",
    "sayHello(\"robert\",25)\n",
    "sayHello(\"jenny\",45)\n",
    "sayHello(\"alice\",65)"
   ]
  }
 ],
 "metadata": {
  "kernelspec": {
   "display_name": "Python 3",
   "language": "python",
   "name": "python3"
  },
  "language_info": {
   "codemirror_mode": {
    "name": "ipython",
    "version": 3
   },
   "file_extension": ".py",
   "mimetype": "text/x-python",
   "name": "python",
   "nbconvert_exporter": "python",
   "pygments_lexer": "ipython3",
   "version": "3.10.13"
  }
 },
 "nbformat": 4,
 "nbformat_minor": 2
}
