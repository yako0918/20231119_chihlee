{
 "cells": [
  {
   "cell_type": "markdown",
   "metadata": {},
   "source": [
    "#IF 流程 槽狀判斷"
   ]
  },
  {
   "cell_type": "code",
   "execution_count": 1,
   "metadata": {},
   "outputs": [
    {
     "name": "stdout",
     "output_type": "stream",
     "text": [
      "請輸入學生分數(0-100):55\n",
      "不及格\n"
     ]
    }
   ],
   "source": [
    "#請輸入學生分數(0~100):\n",
    "#0~60,不及格\n",
    "#60~80,及格\n",
    "#80~100,優\n",
    "#檢查超出範圍,格式\n",
    "\n",
    "import pyinputplus as pyip\n",
    "\n",
    "scores = pyip.inputInt(\"請輸入學生分數(0-100):\",max=100,min=0) #彈性使用引數功能做限制\n",
    "print(scores)\n",
    "\n",
    "if scores < 60:         #判斷開始   if (scores < 60):  c寫法\n",
    "    print(\"不及格\")\n",
    "else:\n",
    "    if scores < 80:\n",
    "        print(\"及格\")\n",
    "    else:\n",
    "        print(\"優\")"
   ]
  },
  {
   "cell_type": "code",
   "execution_count": null,
   "metadata": {},
   "outputs": [],
   "source": [
    "#請輸入學生分數(0~100):\n",
    "#0~60,不及格\n",
    "#60~80,及格\n",
    "#80~100,優\n",
    "#檢查超出範圍,格式\n",
    "\n",
    "import pyinputplus as pyip\n",
    "\n",
    "scores = pyip.inputInt(\"請輸入學生分數(0-100):\",max=100,min=0)\n",
    "print(scores)\n",
    "\n",
    "#多向選擇\n",
    "if scores < 60:\n",
    "    print(\"不及格\")\n",
    "elif scores < 80:    \n",
    "    print(\"及格\")\n",
    "else:\n",
    "    print(\"優\")"
   ]
  },
  {
   "cell_type": "code",
   "execution_count": null,
   "metadata": {},
   "outputs": [],
   "source": [
    "# 90(含)~100分為「優」\n",
    "# 80(含)~89分為「甲」\n",
    "# 70(含)~79分為「乙」\n",
    "# 60(含)~69分為「丙」\n",
    "# 0(含)~59分為「丁」\n",
    "scores = pyip.inputInt(\"請輸入學生分數(0-100):\",max=100,min=0)\n",
    "print(scores)\n",
    "\n",
    "if scores >= 90:\n",
    "    print(\"優\")\n",
    "elif scores >= 80:\n",
    "    print(\"甲\")\n",
    "elif scores >= 70:\n",
    "    print(\"乙\")\n",
    "elif scores >= 60:\n",
    "    print(\"丙\")\n",
    "else:\n",
    "    print(\"丁\")"
   ]
  },
  {
   "cell_type": "code",
   "execution_count": null,
   "metadata": {},
   "outputs": [],
   "source": [
    "#限制級：18歲或以上皆可欣賞。\n",
    "#輔導級：13(含) ~ 17歲以上皆可欣賞。\n",
    "#普遍級：12(含)歲以下皆可欣賞。\n",
    "#如果沒有輸入年齡預設為普遍級。\n",
    "\n",
    "age = pyip.inputInt(\"請輸入年齡:\",max=100,min=0,blank=True)\n",
    "\n",
    "if age == \"\":\n",
    "    print(\"普遍級\")\n",
    "elif age >= 18:\n",
    "    print(\"限制級\")\n",
    "elif age >= 13:\n",
    "    print(\"輔導級\")\n",
    "else:\n",
    "    print(\"普遍級\")"
   ]
  },
  {
   "cell_type": "code",
   "execution_count": null,
   "metadata": {},
   "outputs": [],
   "source": [
    "import pyinputplus as pyip\n",
    "\n",
    "is_yes = pyip.inputYesNo(\"請問是否加分(y,n):\")\n",
    "print(is_yes)\n",
    "if is_yes == \"yes\":\n",
    "    print(\"加分\")\n",
    "else:\n",
    "    print(\"No\")\n"
   ]
  },
  {
   "cell_type": "code",
   "execution_count": null,
   "metadata": {},
   "outputs": [],
   "source": [
    "import pyinputplus as pyip\n",
    "\n",
    "is_yes = pyip.inputYesNo(\"請問是否加分(y,n):\")\n",
    "print(is_yes)\n",
    "if not (is_yes == \"yes\"):\n",
    "    print(\"No\")\n",
    "else:\n",
    "    print(\"加分\")"
   ]
  },
  {
   "cell_type": "code",
   "execution_count": 5,
   "metadata": {},
   "outputs": [
    {
     "name": "stdout",
     "output_type": "stream",
     "text": [
      "請輸入國文分數:99\n",
      "請輸入數學分數:99\n",
      "獎金:0\n"
     ]
    }
   ],
   "source": [
    "#國文100,同時數學100,獎金1000\n",
    "#國文100,或者數學100,獎金500\n",
    "#其它獎金0\n",
    "\n",
    "chinese = pyip.inputInt(\"請輸入國文分數:\",min=0,max=100)\n",
    "print(chinese)\n",
    "math = pyip.inputInt(\"請輸入數學分數:\",min=0,max=100)\n",
    "print(math)\n",
    "bonus = 0\n",
    "\n",
    "#巢狀判斷\n",
    "if chinese == 100:\n",
    "    if math == 100:\n",
    "        bonus = 1000\n",
    "    else:\n",
    "        bonus = 500\n",
    "elif math == 100:\n",
    "    bonus = 500\n",
    "\n",
    "print(f\"獎金:{bonus}\")"
   ]
  },
  {
   "cell_type": "code",
   "execution_count": null,
   "metadata": {},
   "outputs": [],
   "source": [
    "#國文100,同時數學100,獎金1000\n",
    "#國文100,或者數學100,獎金500\n",
    "#其它獎金0\n",
    "#\n",
    "# 單邏輯判斷\n",
    "chinese = pyip.inputInt(\"請輸入國文分數:\",min=0,max=100)\n",
    "print(chinese)\n",
    "math = pyip.inputInt(\"請輸入數學分數:\",min=0,max=100)\n",
    "print(math)\n",
    "bonus = 0\n",
    "\n",
    "#巢狀判斷\n",
    "if chinese == 100:\n",
    "    if math == 100:\n",
    "        bonus = 1000\n",
    "    else:\n",
    "        bonus = 500\n",
    "elif math == 100:\n",
    "    bonus = 500\n",
    "\n",
    "print(f\"獎金:{bonus}\")"
   ]
  },
  {
   "cell_type": "code",
   "execution_count": 9,
   "metadata": {},
   "outputs": [
    {
     "name": "stdout",
     "output_type": "stream",
     "text": [
      "請輸入國文分數:100\n",
      "請輸入數學分數:Number must be at maximum 100.\n",
      "請輸入數學分數:100\n",
      "獎金:1000\n"
     ]
    }
   ],
   "source": [
    "#國文100,同時數學100,獎金1000\n",
    "#國文100,或者數學100,獎金500\n",
    "#其它獎金0\n",
    "#\n",
    "#多 邏輯判斷\n",
    "chinese = pyip.inputInt(\"請輸入國文分數:\",min=0,max=100)\n",
    "print(chinese)\n",
    "math = pyip.inputInt(\"請輸入數學分數:\",min=0,max=100)\n",
    "print(math)\n",
    "bonus = 0\n",
    "\n",
    "#邏輯運算子\n",
    "if chinese == 100 and math == 100: # 2個條件判斷\n",
    "    bonus = 1000\n",
    "elif chinese == 100 or math == 100:\n",
    "    bonus = 500\n",
    "else:\n",
    "    pass\n",
    "    \n",
    "\n",
    "print(f\"獎金:{bonus}\")"
   ]
  },
  {
   "cell_type": "code",
   "execution_count": 13,
   "metadata": {},
   "outputs": [
    {
     "name": "stdout",
     "output_type": "stream",
     "text": [
      "1..10的總合是: 55\n"
     ]
    }
   ],
   "source": [
    "#1加到10的總合\n",
    "\n",
    "value = 0\n",
    "value += 1\n",
    "value += 2\n",
    "value += 3\n",
    "value += 4\n",
    "value += 5\n",
    "value += 6\n",
    "value += 7\n",
    "value += 8\n",
    "value += 9\n",
    "value += 10\n",
    "\n",
    "print(f\"1..10的總合是: {value}\")\n"
   ]
  },
  {
   "cell_type": "code",
   "execution_count": 14,
   "metadata": {},
   "outputs": [
    {
     "name": "stdout",
     "output_type": "stream",
     "text": [
      "John Lennon\n",
      "Paul McCartney\n",
      "Ringo Starr\n",
      "George Harrison\n"
     ]
    }
   ],
   "source": [
    "theBeatles = ['John Lennon', 'Paul McCartney', 'Ringo Starr', 'George Harrison']\n",
    "for i in range(len(theBeatles)):\n",
    "    print(theBeatles[i])"
   ]
  },
  {
   "cell_type": "code",
   "execution_count": 15,
   "metadata": {},
   "outputs": [
    {
     "name": "stdout",
     "output_type": "stream",
     "text": [
      "0 1 2 3 4 5 6 7 8 9 \n",
      "20 18 16 14 12 10 8 6 4 "
     ]
    }
   ],
   "source": [
    "for i in range(10):\n",
    "    print(i, end=\" \")\n",
    "    \n",
    "print() #換行\n",
    "for i in range(20, 2, -2):\n",
    "    print(i, end=\" \")"
   ]
  },
  {
   "cell_type": "code",
   "execution_count": 16,
   "metadata": {},
   "outputs": [
    {
     "name": "stdout",
     "output_type": "stream",
     "text": [
      "\t 1\t 2\t 3\t 4\t 5\t 6\t 7\t 8\t 9\n",
      "\t 2\t 4\t 6\t 8\t 10\t 12\t 14\t 16\t 18\n",
      "\t 3\t 6\t 9\t 12\t 15\t 18\t 21\t 24\t 27\n",
      "\t 4\t 8\t 12\t 16\t 20\t 24\t 28\t 32\t 36\n",
      "\t 5\t 10\t 15\t 20\t 25\t 30\t 35\t 40\t 45\n",
      "\t 6\t 12\t 18\t 24\t 30\t 36\t 42\t 48\t 54\n",
      "\t 7\t 14\t 21\t 28\t 35\t 42\t 49\t 56\t 63\n",
      "\t 8\t 16\t 24\t 32\t 40\t 48\t 56\t 64\t 72\n",
      "\t 9\t 18\t 27\t 36\t 45\t 54\t 63\t 72\t 81\n"
     ]
    }
   ],
   "source": [
    "for i in range(1, 10):\n",
    "    for j in range(1, 10):\n",
    "        if j == 9:\n",
    "            print(\"\\t\", i*j) # j == 9時，換行\n",
    "        else:\n",
    "            print(\"\\t\", i*j, end = '') # j < 9時，不換行\n",
    "            "
   ]
  },
  {
   "cell_type": "code",
   "execution_count": 17,
   "metadata": {},
   "outputs": [
    {
     "name": "stdout",
     "output_type": "stream",
     "text": [
      "0\n",
      "1\n",
      "2\n"
     ]
    }
   ],
   "source": [
    "for i in range(3):\n",
    "    print(i)\n",
    "    "
   ]
  },
  {
   "cell_type": "code",
   "execution_count": 18,
   "metadata": {},
   "outputs": [
    {
     "name": "stdout",
     "output_type": "stream",
     "text": [
      "1..10的總合是:55\n"
     ]
    }
   ],
   "source": [
    "#1加到10的總合\n",
    "\n",
    "value = 0\n",
    "for i in range(1,11):\n",
    "    value += i\n",
    "\n",
    "print(f\"1..10的總合是:{value}\")"
   ]
  },
  {
   "cell_type": "code",
   "execution_count": 19,
   "metadata": {},
   "outputs": [
    {
     "name": "stdout",
     "output_type": "stream",
     "text": [
      "1..1000的總合是:500500\n"
     ]
    }
   ],
   "source": [
    "#1加到1000的總合\n",
    "\n",
    "value = 0\n",
    "for i in range(1,1001):\n",
    "    value += i\n",
    "\n",
    "print(f\"1..1000的總合是:{value}\")"
   ]
  },
  {
   "cell_type": "code",
   "execution_count": null,
   "metadata": {},
   "outputs": [],
   "source": [
    "\n",
    "chinese = pyip.inputInt(\"請輸入國文分數:\",min=0,max=100)\n",
    "print(chinese)\n",
    "math = pyip.inputInt(\"請輸入數學分數:\",min=0,max=100)\n",
    "print(math)\n",
    "bonus = 0"
   ]
  },
  {
   "cell_type": "code",
   "execution_count": 23,
   "metadata": {},
   "outputs": [
    {
     "name": "stdout",
     "output_type": "stream",
     "text": [
      "請輸入起始值:(0以上)5\n",
      "請輸入結束值:10000以下6\n",
      "5..6的總合是:11\n"
     ]
    }
   ],
   "source": [
    "#1加到1000的總合\n",
    "import pyinputplus as pyip\n",
    "start = pyip.inputInt(\"請輸入起始值:(0以上)\",min=0,max=10000)\n",
    "print(start)\n",
    "end = pyip.inputInt(\"請輸入結束值:10000以下\",min=1,max=10000)\n",
    "print(end)\n",
    "\n",
    "value = 0\n",
    "for i in range(start,end+1):\n",
    "    value += i\n",
    "\n",
    "print(f\"{start}..{end}的總合是:{value}\")"
   ]
  },
  {
   "cell_type": "code",
   "execution_count": 9,
   "metadata": {},
   "outputs": [
    {
     "name": "stdout",
     "output_type": "stream",
     "text": [
      "i=1 i=2 i=3 i=4 i=5 i=6 i=7 i=8 i=9 i=10 i=11 i=12 i=13 i=14 i=15 i=16 i=17 i=18 i=19 i=20 i=21 "
     ]
    }
   ],
   "source": [
    "for i in range(1,22):\n",
    "    print(f\"i={i} \",end='') #不換行 用法"
   ]
  },
  {
   "cell_type": "code",
   "execution_count": 14,
   "metadata": {},
   "outputs": [
    {
     "name": "stdout",
     "output_type": "stream",
     "text": [
      "j=1 j=2 j=3 j=4 j=5 j=6 j=7 j=8 j=9 i=1 \n",
      "============\n",
      "j=1 j=2 j=3 j=4 j=5 j=6 j=7 j=8 j=9 i=2 \n",
      "============\n",
      "j=1 j=2 j=3 j=4 j=5 j=6 j=7 j=8 j=9 i=3 \n",
      "============\n",
      "j=1 j=2 j=3 j=4 j=5 j=6 j=7 j=8 j=9 i=4 \n",
      "============\n",
      "j=1 j=2 j=3 j=4 j=5 j=6 j=7 j=8 j=9 i=5 \n",
      "============\n",
      "j=1 j=2 j=3 j=4 j=5 j=6 j=7 j=8 j=9 i=6 \n",
      "============\n",
      "j=1 j=2 j=3 j=4 j=5 j=6 j=7 j=8 j=9 i=7 \n",
      "============\n",
      "j=1 j=2 j=3 j=4 j=5 j=6 j=7 j=8 j=9 i=8 \n",
      "============\n",
      "j=1 j=2 j=3 j=4 j=5 j=6 j=7 j=8 j=9 i=9 \n",
      "============\n"
     ]
    }
   ],
   "source": [
    "for i in range(1,10):\n",
    "    #print(f\"i={i} \",end='') #不換行 用法\n",
    "    for j in range(1,10):\n",
    "        print(f\"j={j} \",end='')\n",
    "    print(f\"i={i} \")\n",
    "    print(\"============\")"
   ]
  },
  {
   "cell_type": "code",
   "execution_count": 15,
   "metadata": {},
   "outputs": [
    {
     "name": "stdout",
     "output_type": "stream",
     "text": [
      "Sjoerd     ==>       4127\n",
      "Jack       ==>       4098\n",
      "Dcab       ==>       7678\n"
     ]
    }
   ],
   "source": [
    "table = {'Sjoerd': 4127, 'Jack': 4098, 'Dcab': 7678}\n",
    "for name, phone in table.items():\n",
    "    print(f'{name:10} ==> {phone:10d}')\n",
    "    "
   ]
  },
  {
   "cell_type": "code",
   "execution_count": 18,
   "metadata": {},
   "outputs": [
    {
     "data": {
      "text/plain": [
       "'[1, \"simple\", \"list\"]'"
      ]
     },
     "execution_count": 18,
     "metadata": {},
     "output_type": "execute_result"
    }
   ],
   "source": [
    "import json\n",
    "x = [1, 'simple', 'list']\n",
    "json.dumps(x)"
   ]
  },
  {
   "cell_type": "code",
   "execution_count": 19,
   "metadata": {},
   "outputs": [
    {
     "data": {
      "text/plain": [
       "'Results of the 2016 Referendum'"
      ]
     },
     "execution_count": 19,
     "metadata": {},
     "output_type": "execute_result"
    }
   ],
   "source": [
    "year = 2016\n",
    "event = 'Referendum'\n",
    "f'Results of the {year} {event}'"
   ]
  },
  {
   "cell_type": "code",
   "execution_count": 21,
   "metadata": {},
   "outputs": [
    {
     "data": {
      "text/plain": [
       "5050"
      ]
     },
     "execution_count": 21,
     "metadata": {},
     "output_type": "execute_result"
    }
   ],
   "source": [
    "#while迴圈明確知道執行的次數\n",
    "value = 0\n",
    "i = 1\n",
    "while i<=100:\n",
    "    value += i\n",
    "    i += 1\n",
    "value"
   ]
  },
  {
   "cell_type": "code",
   "execution_count": 22,
   "metadata": {},
   "outputs": [
    {
     "name": "stdout",
     "output_type": "stream",
     "text": [
      "平均動脈壓為 73.33333333333333 mmHg\n",
      "為正常範圍\n"
     ]
    }
   ],
   "source": [
    "sp = int(input(\"請輸入收縮壓：\"))\n",
    "dp = int(input(\"請輸入舒張壓：\"))\n",
    "\n",
    "MAP = (sp + (2 * dp)) / 3\n",
    "\n",
    "if(MAP>=70 and MAP <=120):\n",
    "    print(\"平均動脈壓為\",MAP,\"mmHg\")\n",
    "    print(\"為正常範圍\")\n",
    "else:\n",
    "    print(\"平均動脈壓為\",MAP,\"mmHg\")\n",
    "    print(\"此數值須注意\")\n"
   ]
  },
  {
   "cell_type": "code",
   "execution_count": 27,
   "metadata": {},
   "outputs": [
    {
     "name": "stdout",
     "output_type": "stream",
     "text": [
      "第1月份的存款:20000\n",
      "          總存款為20000\n",
      "第2月份的存款:20000\n",
      "          總存款為40000\n",
      "恭喜!已經存夠了,共存了2月,總存款為40000\n"
     ]
    }
   ],
   "source": [
    "#小明想要存錢買一輛機車,機車每輛30000元，他將每月存的錢輸入，當存款足夠買機車時，就顯示提示訊息告知。\n",
    "#不知道執行的次數\n",
    "import pyinputplus as pyip\n",
    "\n",
    "num = 0\n",
    "deposit = 0\n",
    "while(deposit < 30000):\n",
    "    num += 1\n",
    "    month_value = pyip.inputInt(f\"第{num}月份的存款:\")\n",
    "    print(month_value)\n",
    "    deposit += month_value\n",
    "    print(f\"          總存款為{deposit}\")\n",
    "\n",
    "print(f\"恭喜!已經存夠了,共存了{num}月,總存款為{deposit}\")"
   ]
  },
  {
   "cell_type": "code",
   "execution_count": 31,
   "metadata": {},
   "outputs": [
    {
     "name": "stdout",
     "output_type": "stream",
     "text": [
      "請輸入學生成績:  10\n",
      "請輸入學生成績:  20\n",
      "請輸入學生成績:  30\n",
      "請輸入學生成績:  40\n",
      "請輸入學生成績:  50\n",
      "請輸入學生成績:  -1\n",
      "  學生總分為:  150\n",
      " 共 5 學生\n"
     ]
    }
   ],
   "source": [
    "#小美是一位教師，請你以while迴圈方式為小美設計一個輸入成績的程式，如果輸入負數表示成績輸入結束，在輸入成績結束後顯示班上總成績及平均成績。\n",
    "inputValue = 0\n",
    "sum = 0\n",
    "i = 0\n",
    "while(inputValue >= 0):    \n",
    "    inputValue = pyip.inputInt(\"請輸入學生成績:  \")\n",
    "    print(inputValue)\n",
    "    if inputValue >= 0:\n",
    "        sum += inputValue\n",
    "        i += 1\n",
    "print(f\"  學生總分為:  {sum}\")\n",
    "print(f\" 共 {i} 學生\")"
   ]
  },
  {
   "cell_type": "code",
   "execution_count": 37,
   "metadata": {},
   "outputs": [
    {
     "name": "stdout",
     "output_type": "stream",
     "text": [
      "請輸入學生成績:  100\n",
      "請輸入學生成績:  100\n",
      "請輸入學生成績:  100\n",
      "請輸入學生成績:  -1\n",
      "學生總分為:  300 \n",
      " 共 3 位學生,,平均=100.0\n"
     ]
    }
   ],
   "source": [
    "#小美是一位教師，請你以while迴圈方式為小美設計一個輸入成績的程式，如果輸入負數表示成績輸入結束，在輸入成績結束後顯示班上總成績及平均成績。\n",
    "\n",
    "sum = 0\n",
    "i = 0\n",
    "#j=0\n",
    "while(tuple):    \n",
    "    inputValue = pyip.inputInt(\"請輸入學生成績:  \")\n",
    "    print(inputValue)\n",
    "    #if inputValue >= 0:\n",
    "    if inputValue < 0:\n",
    "        break\n",
    "    sum += inputValue\n",
    "    i += 1\n",
    "    #j= (sum/i)\n",
    "print(f\"學生總分為:  {sum} \")\n",
    "print(f\" 共 {i} 位學生,,平均={sum/i}\")"
   ]
  }
 ],
 "metadata": {
  "kernelspec": {
   "display_name": "Python 3",
   "language": "python",
   "name": "python3"
  },
  "language_info": {
   "codemirror_mode": {
    "name": "ipython",
    "version": 3
   },
   "file_extension": ".py",
   "mimetype": "text/x-python",
   "name": "python",
   "nbconvert_exporter": "python",
   "pygments_lexer": "ipython3",
   "version": "3.10.13"
  }
 },
 "nbformat": 4,
 "nbformat_minor": 2
}
