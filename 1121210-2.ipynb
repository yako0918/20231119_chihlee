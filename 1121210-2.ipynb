{
 "cells": [
  {
   "cell_type": "code",
   "execution_count": 1,
   "metadata": {},
   "outputs": [
    {
     "name": "stdout",
     "output_type": "stream",
     "text": [
      "91\n",
      "===========猜數字遊戲=============\n",
      "猜數字範圍1~100:50\n",
      "再大一點\n",
      "您已經猜了1次\n",
      "猜數字範圍51~100:77\n",
      "再大一點\n",
      "您已經猜了2次\n",
      "猜數字範圍78~100:Blank values are not allowed.\n",
      "猜數字範圍78~100:88\n",
      "再大一點\n",
      "您已經猜了3次\n",
      "猜數字範圍89~100:99\n",
      "再小一點\n",
      "您已經猜了4次\n",
      "猜數字範圍89~98:94\n",
      "再小一點\n",
      "您已經猜了5次\n",
      "猜數字範圍89~93:90\n",
      "再大一點\n",
      "您已經猜了6次\n",
      "猜數字範圍91~93:Blank values are not allowed.\n",
      "猜數字範圍91~93:92\n",
      "再小一點\n",
      "您已經猜了7次\n",
      "猜數字範圍91~91:Blank values are not allowed.\n",
      "猜數字範圍91~91:91\n",
      "賓果!猜對了, 答案是:91\n",
      "您共猜了:8次\n",
      "您還要繼續玩嗎?(y,n):Blank values are not allowed.\n",
      "您還要繼續玩嗎?(y,n):Game Over!\n"
     ]
    }
   ],
   "source": [
    "import random\n",
    "import pyinputplus as pyip\n",
    "while(True):\n",
    "    min = 1\n",
    "    max = 100\n",
    "    count = 0\n",
    "    randomNum = random.randint(min,max)\n",
    "    print(randomNum)\n",
    "    print(\"===========猜數字遊戲=============\")\n",
    "    while True:\n",
    "        keyin = pyip.inputInt(f\"猜數字範圍{min}~{max}:\",min=min,max=max)\n",
    "        print(keyin)\n",
    "        count += 1\n",
    "        if(keyin == randomNum):\n",
    "            print(f\"賓果!猜對了, 答案是:{randomNum}\")\n",
    "            print(f\"您共猜了:{count}次\")\n",
    "            break\n",
    "        elif keyin > randomNum:\n",
    "            print(\"再小一點\")\n",
    "            max = keyin - 1\n",
    "        elif keyin < randomNum:\n",
    "            print(\"再大一點\")\n",
    "            min = keyin + 1\n",
    "        print(f\"您已經猜了{count}次\")\n",
    "    is_play = pyip.inputYesNo(\"您還要繼續玩嗎?(y,n):\")\n",
    "    if is_play==\"no\":\n",
    "        break\n",
    "    \n",
    "print(\"Game Over!\")"
   ]
  }
 ],
 "metadata": {
  "kernelspec": {
   "display_name": "Python 3",
   "language": "python",
   "name": "python3"
  },
  "language_info": {
   "codemirror_mode": {
    "name": "ipython",
    "version": 3
   },
   "file_extension": ".py",
   "mimetype": "text/x-python",
   "name": "python",
   "nbconvert_exporter": "python",
   "pygments_lexer": "ipython3",
   "version": "3.10.13"
  }
 },
 "nbformat": 4,
 "nbformat_minor": 2
}
