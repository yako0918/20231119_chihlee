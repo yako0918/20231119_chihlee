{
 "cells": [
  {
   "cell_type": "code",
   "execution_count": null,
   "metadata": {},
   "outputs": [],
   "source": [
    "請輸入學生分數(0~100):\n",
    "0~60,不及格\n",
    "60~80,及格\n",
    "80~100,優\n",
    "檢查超出範圍,格式"
   ]
  },
  {
   "cell_type": "markdown",
   "metadata": {},
   "source": [
    "請輸入學生分數(0~100):\n",
    "0~60,不及格\n",
    "60~80,及格\n",
    "80~100,優\n",
    "檢查超出範圍,格式"
   ]
  },
  {
   "cell_type": "code",
   "execution_count": 2,
   "metadata": {},
   "outputs": [
    {
     "name": "stdout",
     "output_type": "stream",
     "text": [
      "請輸入學生分數(最高100分):\n",
      "請輸入學生分數(最高100分) : 66\n",
      "學生分數是:69.3\n"
     ]
    }
   ],
   "source": [
    "import pyinputplus as pyip\n",
    "\n",
    "print(\"請輸入學生分數(最高100分):\")\n",
    "scores = pyip.inputNum(prompt='請輸入學生分數(最高100分): ',min=0, max=100,)\n",
    "print(scores)\n",
    "\n",
    "is_add = input(\"學生是否符合加分條件?(  y , n )\")\n",
    " #巢狀判斷\n",
    "if is_add == \"y\":\n",
    "    scores *= 1.05\n",
    "    if scores > 300:\n",
    "        scores = 300\n",
    "\n",
    "print(f\"學生分數是:{scores}\")"
   ]
  },
  {
   "cell_type": "code",
   "execution_count": null,
   "metadata": {},
   "outputs": [],
   "source": [
    "scores = pyip.inputNum(prompt='請輸入學生分數(最高300分):',min=0, max=300)\n",
    "print(scores)\n",
    "is_add = pyip.inputYesNo(\"學生是否符合加分條件?(y,n)\",yesVal='y',noVal='n',blank=True,default='n')\n",
    "#巢狀判斷\n",
    "if is_add == \"y\":\n",
    "    scores *= 1.05\n",
    "    if scores > 300:\n",
    "        scores = 300\n",
    "\n",
    "print(f\"學生分數是:{scores}\")"
   ]
  },
  {
   "cell_type": "code",
   "execution_count": 3,
   "metadata": {},
   "outputs": [
    {
     "name": "stdout",
     "output_type": "stream",
     "text": [
      "請輸入學生分數(最高100分):66\n",
      "及格\n",
      "學生分數是:66\n"
     ]
    }
   ],
   "source": [
    "import pyinputplus as pyip\n",
    "scores = pyip.inputNum(prompt='請輸入學生分數(最高100分):',min=0, max=100)\n",
    "print(scores)\n",
    "\n",
    "if scores < 60 :\n",
    "    print(\"不及格\")\n",
    "elif scores >= 60 or scores < 80 :\n",
    "    print(\"及格\")\n",
    "elif scores >= 80 or scores < 100 :\n",
    "    print(\"優\")\n",
    "\n",
    "print(f\"學生分數是:{scores}\") "
   ]
  }
 ],
 "metadata": {
  "kernelspec": {
   "display_name": "Python 3",
   "language": "python",
   "name": "python3"
  },
  "language_info": {
   "codemirror_mode": {
    "name": "ipython",
    "version": 3
   },
   "file_extension": ".py",
   "mimetype": "text/x-python",
   "name": "python",
   "nbconvert_exporter": "python",
   "pygments_lexer": "ipython3",
   "version": "3.10.13"
  }
 },
 "nbformat": 4,
 "nbformat_minor": 2
}
