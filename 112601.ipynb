{
 "cells": [
  {
   "cell_type": "code",
   "execution_count": 2,
   "metadata": {},
   "outputs": [
    {
     "name": "stdout",
     "output_type": "stream",
     "text": [
      "hello 1126\n"
     ]
    }
   ],
   "source": [
    "print(\"hello 1126\")"
   ]
  },
  {
   "cell_type": "code",
   "execution_count": 11,
   "metadata": {},
   "outputs": [
    {
     "name": "stdout",
     "output_type": "stream",
     "text": [
      "10\n"
     ]
    }
   ],
   "source": [
    "N=10\n",
    "N+5\n",
    "N\n",
    "print(N) #10"
   ]
  },
  {
   "cell_type": "code",
   "execution_count": 14,
   "metadata": {},
   "outputs": [
    {
     "data": {
      "text/plain": [
       "15"
      ]
     },
     "execution_count": 14,
     "metadata": {},
     "output_type": "execute_result"
    }
   ],
   "source": [
    "\n",
    "n =10  #複合指令 運算子\n",
    "n +=5   # +=  n=n+5  \n",
    "n"
   ]
  },
  {
   "cell_type": "code",
   "execution_count": 19,
   "metadata": {},
   "outputs": [
    {
     "name": "stdout",
     "output_type": "stream",
     "text": [
      "28\n"
     ]
    },
    {
     "data": {
      "text/plain": [
       "7.0"
      ]
     },
     "execution_count": 19,
     "metadata": {},
     "output_type": "execute_result"
    }
   ],
   "source": [
    "#5.6.8.9\n",
    "value1 =0\n",
    "value1 +=5\n",
    "value1 +=6\n",
    "value1 +=8\n",
    "value1 +=9\n",
    "print(value1)\n",
    "value1 /4"
   ]
  },
  {
   "cell_type": "code",
   "execution_count": 20,
   "metadata": {},
   "outputs": [
    {
     "name": "stdout",
     "output_type": "stream",
     "text": [
      "28\n"
     ]
    },
    {
     "data": {
      "text/plain": [
       "7.0"
      ]
     },
     "execution_count": 20,
     "metadata": {},
     "output_type": "execute_result"
    }
   ],
   "source": [
    "#0, 5, 9, 14\n",
    "value1 =0\n",
    "value1 +=5\n",
    "value1 +=9\n",
    "value1 +=14\n",
    "#value1 +=9\n",
    "print(value1)\n",
    "value1 /4"
   ]
  },
  {
   "cell_type": "code",
   "execution_count": 24,
   "metadata": {},
   "outputs": [
    {
     "name": "stdout",
     "output_type": "stream",
     "text": [
      "List : [12, 24, 36, 48, 60]\n",
      "Standard deviation of the given list: 16.97056274847714\n"
     ]
    }
   ],
   "source": [
    "import statistics\n",
    "#statistics 模組的 pstdev() 函式幫助使用者計算整個總體的標準偏差\n",
    "list = [12, 24, 36, 48, 60]\n",
    "print(\"List : \" + str(list))\n",
    "\n",
    "st_dev = statistics.pstdev(list)\n",
    "print(\"Standard deviation of the given list: \" + str(st_dev))\n",
    "#在上面的示例中，str() 函式將整個列表及其標準偏差轉換為字串，因為它只能與字串連線。"
   ]
  },
  {
   "cell_type": "code",
   "execution_count": 36,
   "metadata": {},
   "outputs": [
    {
     "ename": "ModuleNotFoundError",
     "evalue": "No module named 'numpy'",
     "output_type": "error",
     "traceback": [
      "\u001b[0;31m---------------------------------------------------------------------------\u001b[0m",
      "\u001b[0;31mModuleNotFoundError\u001b[0m                       Traceback (most recent call last)",
      "\u001b[1;32m/workspaces/20231119_chihlee/112601.ipynb 儲存格 7\u001b[0m line \u001b[0;36m7\n\u001b[1;32m      <a href='vscode-notebook-cell://codespaces%2Bimproved-succotash-5gr97v9xwwrc7j9q/workspaces/20231119_chihlee/112601.ipynb#X10sdnNjb2RlLXJlbW90ZQ%3D%3D?line=0'>1</a>\u001b[0m \u001b[39m#在 Python 中使用 NumPy 庫的 std() 函式計算列表的標準偏差\u001b[39;00m\n\u001b[1;32m      <a href='vscode-notebook-cell://codespaces%2Bimproved-succotash-5gr97v9xwwrc7j9q/workspaces/20231119_chihlee/112601.ipynb#X10sdnNjb2RlLXJlbW90ZQ%3D%3D?line=1'>2</a>\u001b[0m \u001b[39m#NumPy 代表 Numerical Python 是 Python 中廣泛使用的庫。這個庫有助於處理陣列、矩陣、線性代數和傅立葉變換。\u001b[39;00m\n\u001b[1;32m      <a href='vscode-notebook-cell://codespaces%2Bimproved-succotash-5gr97v9xwwrc7j9q/workspaces/20231119_chihlee/112601.ipynb#X10sdnNjb2RlLXJlbW90ZQ%3D%3D?line=2'>3</a>\u001b[0m \u001b[39m#\u001b[39;00m\n\u001b[1;32m      <a href='vscode-notebook-cell://codespaces%2Bimproved-succotash-5gr97v9xwwrc7j9q/workspaces/20231119_chihlee/112601.ipynb#X10sdnNjb2RlLXJlbW90ZQ%3D%3D?line=3'>4</a>\u001b[0m \u001b[39m#NumPy 庫的 std() 函式用於計算給定陣列（列表）中元素的標準偏差。參考下面的示例。\u001b[39;00m\n\u001b[1;32m      <a href='vscode-notebook-cell://codespaces%2Bimproved-succotash-5gr97v9xwwrc7j9q/workspaces/20231119_chihlee/112601.ipynb#X10sdnNjb2RlLXJlbW90ZQ%3D%3D?line=4'>5</a>\u001b[0m \u001b[39m#\u001b[39;00m\n\u001b[1;32m      <a href='vscode-notebook-cell://codespaces%2Bimproved-succotash-5gr97v9xwwrc7j9q/workspaces/20231119_chihlee/112601.ipynb#X10sdnNjb2RlLXJlbW90ZQ%3D%3D?line=5'>6</a>\u001b[0m \u001b[39mimport\u001b[39;00m \u001b[39mmath\u001b[39;00m\n\u001b[0;32m----> <a href='vscode-notebook-cell://codespaces%2Bimproved-succotash-5gr97v9xwwrc7j9q/workspaces/20231119_chihlee/112601.ipynb#X10sdnNjb2RlLXJlbW90ZQ%3D%3D?line=6'>7</a>\u001b[0m \u001b[39mimport\u001b[39;00m \u001b[39mnumpy\u001b[39;00m \u001b[39m#as np\u001b[39;00m\n\u001b[1;32m      <a href='vscode-notebook-cell://codespaces%2Bimproved-succotash-5gr97v9xwwrc7j9q/workspaces/20231119_chihlee/112601.ipynb#X10sdnNjb2RlLXJlbW90ZQ%3D%3D?line=8'>9</a>\u001b[0m \u001b[39mlist\u001b[39m \u001b[39m=\u001b[39m [\u001b[39m12\u001b[39m, \u001b[39m24\u001b[39m, \u001b[39m36\u001b[39m, \u001b[39m48\u001b[39m, \u001b[39m60\u001b[39m]\n\u001b[1;32m     <a href='vscode-notebook-cell://codespaces%2Bimproved-succotash-5gr97v9xwwrc7j9q/workspaces/20231119_chihlee/112601.ipynb#X10sdnNjb2RlLXJlbW90ZQ%3D%3D?line=9'>10</a>\u001b[0m \u001b[39mprint\u001b[39m(\u001b[39m\"\u001b[39m\u001b[39mList : \u001b[39m\u001b[39m\"\u001b[39m \u001b[39m+\u001b[39m \u001b[39mstr\u001b[39m(\u001b[39mlist\u001b[39m))\n",
      "\u001b[0;31mModuleNotFoundError\u001b[0m: No module named 'numpy'"
     ]
    }
   ],
   "source": [
    "#在 Python 中使用 NumPy 庫的 std() 函式計算列表的標準偏差\n",
    "#NumPy 代表 Numerical Python 是 Python 中廣泛使用的庫。這個庫有助於處理陣列、矩陣、線性代數和傅立葉變換。\n",
    "#\n",
    "#NumPy 庫的 std() 函式用於計算給定陣列（列表）中元素的標準偏差。參考下面的示例。\n",
    "#\n",
    "import math\n",
    "import numpy #as np\n",
    "\n",
    "list = [12, 24, 36, 48, 60]\n",
    "print(\"List : \" + str(list))\n",
    "\n",
    "st_dev = np.std(list)\n",
    "\n",
    "print(\"Standard deviation of the given list: \" + str(st_dev))"
   ]
  },
  {
   "cell_type": "code",
   "execution_count": 30,
   "metadata": {},
   "outputs": [
    {
     "name": "stdout",
     "output_type": "stream",
     "text": [
      "List : [12, 24, 36, 48, 60]\n",
      "16.97056274847714\n"
     ]
    }
   ],
   "source": [
    "#在 Python 中使用 sum() 函式和列表推導式計算列表的標準偏差\n",
    "#顧名思義，sum() 函式提供可迭代物件（如列表或元組）的所有元素的總和。列表推導式是一種從現有列表中存在的元素建立列表的方法。\n",
    "#\n",
    "#sum() 函式和列表推導式可以幫助計算列表的標準偏差。這是一個示例程式碼。\n",
    "\n",
    "import math\n",
    "\n",
    "list = [12, 24, 36, 48, 60]\n",
    "print(\"List : \" + str(list))\n",
    "\n",
    "mean = sum(list) / len(list)\n",
    "var = sum((l - mean) ** 2 for l in list) / len(list)\n",
    "st_dev = math.sqrt(var)\n",
    "print(st_dev)\n",
    "#在上面的示例中，匯入了 math 模組。它提供了 sqrt() 函式來計算給定值的平方根。另外，請注意還使用了函式 len()。此函式有助於提供給定列表的長度，例如，列表中的元素數。\n",
    "#\n",
    "#該方法基於標準差的數學公式。首先，我們計算方差，然後求其平方根以找到標準偏差。"
   ]
  },
  {
   "cell_type": "code",
   "execution_count": 33,
   "metadata": {},
   "outputs": [
    {
     "name": "stdout",
     "output_type": "stream",
     "text": [
      "[0, 5, 9, 14]的平均是7\n",
      "[5, 6, 8, 9]的平均是7\n"
     ]
    }
   ],
   "source": [
    "import statistics\n",
    "import math\n",
    "\n",
    "mean1 = statistics.mean([0, 5, 9, 14])\n",
    "mean2 = statistics.mean([5, 6, 8, 9])\n",
    "print(f'[0, 5, 9, 14]的平均是{mean1}')\n",
    "print(f'[5, 6, 8, 9]的平均是{mean2}')"
   ]
  },
  {
   "cell_type": "code",
   "execution_count": 35,
   "metadata": {},
   "outputs": [
    {
     "name": "stdout",
     "output_type": "stream",
     "text": [
      "[0, 5, 9, 14]的平均是7\n",
      "[0, 5, 9, 14]的標準差是5.94418483337567\n",
      "[5, 6, 8, 9]的平均是7\n",
      "[5, 6, 8, 9]的標準差是1.8257418583505538\n"
     ]
    }
   ],
   "source": [
    "import statistics\n",
    "\n",
    "mean1 = statistics.mean([0, 5, 9, 14])\n",
    "mean2 = statistics.mean([5, 6, 8, 9])\n",
    "std1 = statistics.stdev([0, 5, 9, 14])\n",
    "std2 = statistics.stdev([5, 6, 8, 9])\n",
    "\n",
    "print(f'[0, 5, 9, 14]的平均是{mean1}')\n",
    "print(f'[0, 5, 9, 14]的標準差是{std1}')\n",
    "print(f'[5, 6, 8, 9]的平均是{mean2}')\n",
    "print(f'[5, 6, 8, 9]的標準差是{std2}')"
   ]
  },
  {
   "cell_type": "markdown",
   "metadata": {},
   "source": [
    "平均值與中央位置量數\n",
    "這些函式計算來自一個母體或樣本的平均值或代表值。\n",
    "mean()數據的算術平均（平均值）。\n",
    "fmean()快速的，浮点算数平均数。\n",
    "geometric_mean()数据的几何平均数\n",
    "harmonic_mean()数据的调和均值\n",
    "median()數據的中位數（中間值）。\n",
    "median_low()數據中較小的中位數。\n",
    "median_high()數據中較大的中位數。\n",
    "median_grouped()分組數據的中位數或50%處。\n",
    "mode()离散的或标称的数据的单个众数（出现最多的值）。\n",
    "multimode()离散的或标称的数据的众数（出现最多的值）列表。\n",
    "quantiles()将数据以相等的概率分为多个间隔。\n",
    "**************************************\n",
    "離度 (spread) 的測量\n",
    "這些函式計算母體或樣本偏離平均值的程度。\n",
    "pstdev()數據的母體標準差\n",
    "pvariance()數據的母體變異數\n",
    "stdev()數據的樣本標準差\n",
    "variance()數據的樣本變異數\n",
    "****************************************\n",
    "对两个输入之间关系的统计\n",
    "这些函数计算两个输入之间关系的统计值。\n",
    "covariance()兩變數樣本的共變異數\n",
    "correlation()两个变量的皮尔逊相关系数。\n",
    "linear_regression()简单线性回归的斜率和截距。"
   ]
  },
  {
   "cell_type": "code",
   "execution_count": null,
   "metadata": {},
   "outputs": [],
   "source": []
  }
 ],
 "metadata": {
  "kernelspec": {
   "display_name": "Python 3",
   "language": "python",
   "name": "python3"
  },
  "language_info": {
   "codemirror_mode": {
    "name": "ipython",
    "version": 3
   },
   "file_extension": ".py",
   "mimetype": "text/x-python",
   "name": "python",
   "nbconvert_exporter": "python",
   "pygments_lexer": "ipython3",
   "version": "3.10.13"
  }
 },
 "nbformat": 4,
 "nbformat_minor": 2
}
